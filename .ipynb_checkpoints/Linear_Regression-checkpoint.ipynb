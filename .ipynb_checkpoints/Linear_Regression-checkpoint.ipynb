{
 "cells": [
  {
   "cell_type": "markdown",
   "id": "69c5d2c3",
   "metadata": {},
   "source": [
    "# Module 3 : Machine LEarning"
   ]
  },
  {
   "cell_type": "markdown",
   "id": "41b51625",
   "metadata": {},
   "source": [
    "# Simple Linear Regression"
   ]
  },
  {
   "cell_type": "markdown",
   "id": "63d91092",
   "metadata": {},
   "source": [
    "1. Analyze Data\n",
    " - feature/explanatory Variable (x)\n",
    " - target/label/Response Variable (y)\n",
    "\n",
    "2. Apply Linear Regression\n",
    "3. Interpret F-Test and T-test\n",
    "4. Interpret the result"
   ]
  },
  {
   "cell_type": "code",
   "execution_count": 2,
   "id": "f6f9bf5c",
   "metadata": {},
   "outputs": [
    {
     "data": {
      "text/html": [
       "<div>\n",
       "<style scoped>\n",
       "    .dataframe tbody tr th:only-of-type {\n",
       "        vertical-align: middle;\n",
       "    }\n",
       "\n",
       "    .dataframe tbody tr th {\n",
       "        vertical-align: top;\n",
       "    }\n",
       "\n",
       "    .dataframe thead th {\n",
       "        text-align: right;\n",
       "    }\n",
       "</style>\n",
       "<table border=\"1\" class=\"dataframe\">\n",
       "  <thead>\n",
       "    <tr style=\"text-align: right;\">\n",
       "      <th></th>\n",
       "      <th>Unnamed: 0</th>\n",
       "      <th>house_area</th>\n",
       "      <th>house_price</th>\n",
       "    </tr>\n",
       "  </thead>\n",
       "  <tbody>\n",
       "    <tr>\n",
       "      <th>0</th>\n",
       "      <td>0</td>\n",
       "      <td>1032.21</td>\n",
       "      <td>1.01</td>\n",
       "    </tr>\n",
       "    <tr>\n",
       "      <th>1</th>\n",
       "      <td>1</td>\n",
       "      <td>2329.59</td>\n",
       "      <td>2.52</td>\n",
       "    </tr>\n",
       "    <tr>\n",
       "      <th>2</th>\n",
       "      <td>2</td>\n",
       "      <td>2362.68</td>\n",
       "      <td>3.60</td>\n",
       "    </tr>\n",
       "    <tr>\n",
       "      <th>3</th>\n",
       "      <td>3</td>\n",
       "      <td>1218.12</td>\n",
       "      <td>2.33</td>\n",
       "    </tr>\n",
       "    <tr>\n",
       "      <th>4</th>\n",
       "      <td>4</td>\n",
       "      <td>1323.52</td>\n",
       "      <td>2.09</td>\n",
       "    </tr>\n",
       "  </tbody>\n",
       "</table>\n",
       "</div>"
      ],
      "text/plain": [
       "   Unnamed: 0  house_area  house_price\n",
       "0           0     1032.21         1.01\n",
       "1           1     2329.59         2.52\n",
       "2           2     2362.68         3.60\n",
       "3           3     1218.12         2.33\n",
       "4           4     1323.52         2.09"
      ]
     },
     "execution_count": 2,
     "metadata": {},
     "output_type": "execute_result"
    }
   ],
   "source": [
    "import numpy as np\n",
    "import pandas as pd\n",
    "import seaborn as sns\n",
    "import matplotlib.pyplot as plt\n",
    "pd.set_option('display.float_format', lambda x: '%.02f' % x)\n",
    "\n",
    "df=pd.read_csv('house.csv')\n",
    "df.head()"
   ]
  },
  {
   "cell_type": "markdown",
   "id": "a3202e5f",
   "metadata": {},
   "source": [
    "# Define Features (X) and Target (y)"
   ]
  },
  {
   "cell_type": "code",
   "execution_count": 3,
   "id": "aa89ab58",
   "metadata": {},
   "outputs": [
    {
     "data": {
      "text/html": [
       "<div>\n",
       "<style scoped>\n",
       "    .dataframe tbody tr th:only-of-type {\n",
       "        vertical-align: middle;\n",
       "    }\n",
       "\n",
       "    .dataframe tbody tr th {\n",
       "        vertical-align: top;\n",
       "    }\n",
       "\n",
       "    .dataframe thead th {\n",
       "        text-align: right;\n",
       "    }\n",
       "</style>\n",
       "<table border=\"1\" class=\"dataframe\">\n",
       "  <thead>\n",
       "    <tr style=\"text-align: right;\">\n",
       "      <th></th>\n",
       "      <th>house_area</th>\n",
       "    </tr>\n",
       "  </thead>\n",
       "  <tbody>\n",
       "    <tr>\n",
       "      <th>0</th>\n",
       "      <td>1032.21</td>\n",
       "    </tr>\n",
       "    <tr>\n",
       "      <th>1</th>\n",
       "      <td>2329.59</td>\n",
       "    </tr>\n",
       "    <tr>\n",
       "      <th>2</th>\n",
       "      <td>2362.68</td>\n",
       "    </tr>\n",
       "    <tr>\n",
       "      <th>3</th>\n",
       "      <td>1218.12</td>\n",
       "    </tr>\n",
       "    <tr>\n",
       "      <th>4</th>\n",
       "      <td>1323.52</td>\n",
       "    </tr>\n",
       "  </tbody>\n",
       "</table>\n",
       "</div>"
      ],
      "text/plain": [
       "   house_area\n",
       "0     1032.21\n",
       "1     2329.59\n",
       "2     2362.68\n",
       "3     1218.12\n",
       "4     1323.52"
      ]
     },
     "execution_count": 3,
     "metadata": {},
     "output_type": "execute_result"
    }
   ],
   "source": [
    "#feature\n",
    "X=df[['house_area']]\n",
    "X.head()"
   ]
  },
  {
   "cell_type": "code",
   "execution_count": 4,
   "id": "d525b97f",
   "metadata": {},
   "outputs": [
    {
     "data": {
      "text/plain": [
       "0   1.01\n",
       "1   2.52\n",
       "2   3.60\n",
       "3   2.33\n",
       "4   2.09\n",
       "Name: house_price, dtype: float64"
      ]
     },
     "execution_count": 4,
     "metadata": {},
     "output_type": "execute_result"
    }
   ],
   "source": [
    "#target\n",
    "y=df['house_price']\n",
    "y.head()"
   ]
  },
  {
   "cell_type": "code",
   "execution_count": 5,
   "id": "6b98daab",
   "metadata": {},
   "outputs": [
    {
     "data": {
      "text/html": [
       "<div>\n",
       "<style scoped>\n",
       "    .dataframe tbody tr th:only-of-type {\n",
       "        vertical-align: middle;\n",
       "    }\n",
       "\n",
       "    .dataframe tbody tr th {\n",
       "        vertical-align: top;\n",
       "    }\n",
       "\n",
       "    .dataframe thead th {\n",
       "        text-align: right;\n",
       "    }\n",
       "</style>\n",
       "<table border=\"1\" class=\"dataframe\">\n",
       "  <thead>\n",
       "    <tr style=\"text-align: right;\">\n",
       "      <th></th>\n",
       "      <th>const</th>\n",
       "      <th>house_area</th>\n",
       "    </tr>\n",
       "  </thead>\n",
       "  <tbody>\n",
       "    <tr>\n",
       "      <th>0</th>\n",
       "      <td>1.00</td>\n",
       "      <td>1032.21</td>\n",
       "    </tr>\n",
       "    <tr>\n",
       "      <th>1</th>\n",
       "      <td>1.00</td>\n",
       "      <td>2329.59</td>\n",
       "    </tr>\n",
       "    <tr>\n",
       "      <th>2</th>\n",
       "      <td>1.00</td>\n",
       "      <td>2362.68</td>\n",
       "    </tr>\n",
       "    <tr>\n",
       "      <th>3</th>\n",
       "      <td>1.00</td>\n",
       "      <td>1218.12</td>\n",
       "    </tr>\n",
       "    <tr>\n",
       "      <th>4</th>\n",
       "      <td>1.00</td>\n",
       "      <td>1323.52</td>\n",
       "    </tr>\n",
       "  </tbody>\n",
       "</table>\n",
       "</div>"
      ],
      "text/plain": [
       "   const  house_area\n",
       "0   1.00     1032.21\n",
       "1   1.00     2329.59\n",
       "2   1.00     2362.68\n",
       "3   1.00     1218.12\n",
       "4   1.00     1323.52"
      ]
     },
     "execution_count": 5,
     "metadata": {},
     "output_type": "execute_result"
    }
   ],
   "source": [
    "import statsmodels.api as sm\n",
    "X=sm.add_constant(X)\n",
    "X.head()"
   ]
  },
  {
   "cell_type": "markdown",
   "id": "8c6a5083",
   "metadata": {},
   "source": [
    "# Modeling"
   ]
  },
  {
   "cell_type": "code",
   "execution_count": 14,
   "id": "22ba917e",
   "metadata": {},
   "outputs": [
    {
     "name": "stdout",
     "output_type": "stream",
     "text": [
      "                            OLS Regression Results                            \n",
      "==============================================================================\n",
      "Dep. Variable:            house_price   R-squared:                       0.818\n",
      "Model:                            OLS   Adj. R-squared:                  0.817\n",
      "Method:                 Least Squares   F-statistic:                     664.1\n",
      "Date:                Tue, 19 Dec 2023   Prob (F-statistic):           1.40e-56\n",
      "Time:                        20:30:55   Log-Likelihood:                -42.337\n",
      "No. Observations:                 150   AIC:                             88.67\n",
      "Df Residuals:                     148   BIC:                             94.70\n",
      "Df Model:                           1                                         \n",
      "Covariance Type:            nonrobust                                         \n",
      "==============================================================================\n",
      "                 coef    std err          t      P>|t|      [0.025      0.975]\n",
      "------------------------------------------------------------------------------\n",
      "const          0.0742      0.094      0.787      0.432      -0.112       0.261\n",
      "house_area     0.0014    5.6e-05     25.770      0.000       0.001       0.002\n",
      "==============================================================================\n",
      "Omnibus:                        4.383   Durbin-Watson:                   1.810\n",
      "Prob(Omnibus):                  0.112   Jarque-Bera (JB):                4.011\n",
      "Skew:                          -0.393   Prob(JB):                        0.135\n",
      "Kurtosis:                       3.149   Cond. No.                     6.02e+03\n",
      "==============================================================================\n",
      "\n",
      "Notes:\n",
      "[1] Standard Errors assume that the covariance matrix of the errors is correctly specified.\n",
      "[2] The condition number is large, 6.02e+03. This might indicate that there are\n",
      "strong multicollinearity or other numerical problems.\n"
     ]
    }
   ],
   "source": [
    "#define models\n",
    "model_ols=sm.OLS(y,X)\n",
    "\n",
    "#fitting model\n",
    "reg=model_ols.fit()\n",
    "\n",
    "#show summary\n",
    "print(reg.summary())"
   ]
  },
  {
   "cell_type": "markdown",
   "id": "17197b90",
   "metadata": {},
   "source": [
    "# Model Visualization\n",
    "## Tanpa Intercept"
   ]
  },
  {
   "cell_type": "code",
   "execution_count": 17,
   "id": "248076ed",
   "metadata": {},
   "outputs": [
    {
     "data": {
      "image/png": "[encoded data removed]",
      "text/plain": [
       "<Figure size 640x480 with 1 Axes>"
      ]
     },
     "metadata": {},
     "output_type": "display_data"
    }
   ],
   "source": [
    "\n",
    "slope = 0.0014\n",
    "sns.scatterplot(df,x='house_area',y='house_price')\n",
    "plt.plot(df['house_area'],slope*df['house_area'],color='black',label='Regresi Linier')\n",
    "plt.xlabel('House Area ($m^2$)')\n",
    "plt.ylabel('House Price (Thousand Dollar)')\n",
    "plt.legend()\n",
    "plt.show()"
   ]
  },
  {
   "cell_type": "markdown",
   "id": "eca1b6d5",
   "metadata": {},
   "source": [
    "# Model Interpretation"
   ]
  },
  {
   "cell_type": "markdown",
   "id": "5294b0d6",
   "metadata": {},
   "source": [
    "### $\\text{y}=\\beta_{0}+\\beta_{1} * \\text{X}$\n",
    "### **House Price = 0.0742 + 0.0014 * House Area**\n",
    "\n",
    "1. R-Squared = 0.818\n",
    "\n",
    "`Artinya model(dengan fitur house_area) dapat menjelaskan 81.8% variance dari house_price. Sisanya sebesar 18.2% dapat dijelaskan oleh fitur lain`\n",
    "\n",
    "2. F-Test\n",
    "\n",
    " - H0 : $\\beta_{1}$ = 0. (house_area tidak berpengaruh signifikan terhadap house_price)\n",
    " - Ha : $\\beta_{1}$ != 0. (house_area berpengaruh signifikan terhadap house_price)\n",
    " - significancy ($\\alpha$) : 0.05\n",
    " - Prob (F-statistic):    1.40e-56\n",
    " - p_value < 0.05 --> reject H0\n",
    " - `artinya house_area berpengaruh signifikan terhadap house_price`\n",
    "\n",
    "3. T-Test <Br>\n",
    "    a. $\\beta_{0}$ : const(intercept)\n",
    "    - H0 : $\\beta_{0}$ = 0. (Model tidak membutuhkan intercept)\n",
    "    - Ha : $\\beta_{0}$ != 0. (Model membutuhkan intercept)\n",
    "    - significancy ($\\alpha$) : 0.05\n",
    "    - P>|t| :    0.432\n",
    "    - p_value > 0.05 --> gagal reject H0\n",
    "    - `artinya model tidak membutuhkan intercept`\n",
    "\n",
    "    \n",
    "    \n",
    "    b. $\\beta_{1}$ : slope(house_area)\n",
    "    - H0 : $\\beta_{1}$ = 0. (house_area tidak berpengaruh signifikan terhadap house_price)\n",
    "    - Ha : $\\beta_{1}$ != 0. (house_area berpengaruh signifikan terhadap house_price)\n",
    "    - significancy ($\\alpha$) : 0.05\n",
    "    - P>|t| :    0.000\n",
    "    - p_value < 0.05 --> reject H0\n",
    "    - `artinya house_area berpengaruh signifikan terhadap house_price`\n",
    " \n",
    "4. Coefficient (**House Price (y) = 0.0742 + 0.0014 * House Area (x)**)\n",
    "    - $\\beta_{0}$ : 0.0742. Artinya nilai house price(y) adalah 0.0742 ribu dollar ketika nilai house areanya sebesar 0. \n",
    "    - $\\beta_{1}$ : 0.0014. Artinya setiap pertambahan house_area(x) sebesar 1 $m^2$, maka nilai house_price(y) akan bertambah sebesar 0.0014 ribu dollar. \n",
    " \n",
    "    Interpretasi dari coefficient ini hanya berlaku pada rentang house_area antara 802 $m^2$ dan 2473 $m^2$"
   ]
  },
  {
   "cell_type": "code",
   "execution_count": 15,
   "id": "d0dc0860",
   "metadata": {},
   "outputs": [
    {
     "data": {
      "text/plain": [
       "802.8544282223734"
      ]
     },
     "execution_count": 15,
     "metadata": {},
     "output_type": "execute_result"
    }
   ],
   "source": [
    "df['house_area'].min()"
   ]
  },
  {
   "cell_type": "code",
   "execution_count": 16,
   "id": "508c0e36",
   "metadata": {},
   "outputs": [
    {
     "data": {
      "text/plain": [
       "2472.270070166497"
      ]
     },
     "execution_count": 16,
     "metadata": {},
     "output_type": "execute_result"
    }
   ],
   "source": [
    "df['house_area'].max()"
   ]
  },
  {
   "cell_type": "markdown",
   "id": "0e34ac5d",
   "metadata": {},
   "source": [
    "# Model Visualization\n",
    "## Tanpa Intercept"
   ]
  },
  {
   "cell_type": "code",
   "execution_count": 17,
   "id": "27dae569",
   "metadata": {},
   "outputs": [
    {
     "data": {
      "image/png": "[encoded data removed]",
      "text/plain": [
       "<Figure size 640x480 with 1 Axes>"
      ]
     },
     "metadata": {},
     "output_type": "display_data"
    }
   ],
   "source": [
    "\n",
    "slope = 0.0014\n",
    "sns.scatterplot(df,x='house_area',y='house_price')\n",
    "plt.plot(df['house_area'],slope*df['house_area'],color='black',label='Regresi Linier')\n",
    "plt.xlabel('House Area ($m^2$)')\n",
    "plt.ylabel('House Price (Thousand Dollar)')\n",
    "plt.legend()\n",
    "plt.show()"
   ]
  },
  {
   "cell_type": "markdown",
   "id": "573178fd",
   "metadata": {},
   "source": [
    "# y prediction"
   ]
  },
  {
   "cell_type": "code",
   "execution_count": 18,
   "id": "d4049c66",
   "metadata": {},
   "outputs": [
    {
     "data": {
      "text/html": [
       "<div>\n",
       "<style scoped>\n",
       "    .dataframe tbody tr th:only-of-type {\n",
       "        vertical-align: middle;\n",
       "    }\n",
       "\n",
       "    .dataframe tbody tr th {\n",
       "        vertical-align: top;\n",
       "    }\n",
       "\n",
       "    .dataframe thead th {\n",
       "        text-align: right;\n",
       "    }\n",
       "</style>\n",
       "<table border=\"1\" class=\"dataframe\">\n",
       "  <thead>\n",
       "    <tr style=\"text-align: right;\">\n",
       "      <th></th>\n",
       "      <th>Unnamed: 0</th>\n",
       "      <th>house_area</th>\n",
       "      <th>house_price</th>\n",
       "      <th>y_pred</th>\n",
       "    </tr>\n",
       "  </thead>\n",
       "  <tbody>\n",
       "    <tr>\n",
       "      <th>0</th>\n",
       "      <td>0</td>\n",
       "      <td>1032.21</td>\n",
       "      <td>1.01</td>\n",
       "      <td>1.56</td>\n",
       "    </tr>\n",
       "    <tr>\n",
       "      <th>1</th>\n",
       "      <td>1</td>\n",
       "      <td>2329.59</td>\n",
       "      <td>2.52</td>\n",
       "      <td>3.44</td>\n",
       "    </tr>\n",
       "    <tr>\n",
       "      <th>2</th>\n",
       "      <td>2</td>\n",
       "      <td>2362.68</td>\n",
       "      <td>3.60</td>\n",
       "      <td>3.48</td>\n",
       "    </tr>\n",
       "    <tr>\n",
       "      <th>3</th>\n",
       "      <td>3</td>\n",
       "      <td>1218.12</td>\n",
       "      <td>2.33</td>\n",
       "      <td>1.83</td>\n",
       "    </tr>\n",
       "    <tr>\n",
       "      <th>4</th>\n",
       "      <td>4</td>\n",
       "      <td>1323.52</td>\n",
       "      <td>2.09</td>\n",
       "      <td>1.98</td>\n",
       "    </tr>\n",
       "    <tr>\n",
       "      <th>...</th>\n",
       "      <td>...</td>\n",
       "      <td>...</td>\n",
       "      <td>...</td>\n",
       "      <td>...</td>\n",
       "    </tr>\n",
       "    <tr>\n",
       "      <th>145</th>\n",
       "      <td>145</td>\n",
       "      <td>849.30</td>\n",
       "      <td>1.58</td>\n",
       "      <td>1.30</td>\n",
       "    </tr>\n",
       "    <tr>\n",
       "      <th>146</th>\n",
       "      <td>146</td>\n",
       "      <td>2382.69</td>\n",
       "      <td>3.86</td>\n",
       "      <td>3.51</td>\n",
       "    </tr>\n",
       "    <tr>\n",
       "      <th>147</th>\n",
       "      <td>147</td>\n",
       "      <td>1031.74</td>\n",
       "      <td>1.40</td>\n",
       "      <td>1.56</td>\n",
       "    </tr>\n",
       "    <tr>\n",
       "      <th>148</th>\n",
       "      <td>148</td>\n",
       "      <td>1322.07</td>\n",
       "      <td>2.26</td>\n",
       "      <td>1.98</td>\n",
       "    </tr>\n",
       "    <tr>\n",
       "      <th>149</th>\n",
       "      <td>149</td>\n",
       "      <td>967.66</td>\n",
       "      <td>2.02</td>\n",
       "      <td>1.47</td>\n",
       "    </tr>\n",
       "  </tbody>\n",
       "</table>\n",
       "<p>150 rows × 4 columns</p>\n",
       "</div>"
      ],
      "text/plain": [
       "     Unnamed: 0  house_area  house_price  y_pred\n",
       "0             0     1032.21         1.01    1.56\n",
       "1             1     2329.59         2.52    3.44\n",
       "2             2     2362.68         3.60    3.48\n",
       "3             3     1218.12         2.33    1.83\n",
       "4             4     1323.52         2.09    1.98\n",
       "..          ...         ...          ...     ...\n",
       "145         145      849.30         1.58    1.30\n",
       "146         146     2382.69         3.86    3.51\n",
       "147         147     1031.74         1.40    1.56\n",
       "148         148     1322.07         2.26    1.98\n",
       "149         149      967.66         2.02    1.47\n",
       "\n",
       "[150 rows x 4 columns]"
      ]
     },
     "execution_count": 18,
     "metadata": {},
     "output_type": "execute_result"
    }
   ],
   "source": [
    "#predict y\n",
    "y_pred=reg.predict(X)\n",
    "#masukkan y_pred ke dataframe\n",
    "df['y_pred']=y_pred\n",
    "df"
   ]
  },
  {
   "cell_type": "markdown",
   "id": "6a8d87f1",
   "metadata": {},
   "source": [
    "# Squared Error & Squared Total"
   ]
  },
  {
   "cell_type": "code",
   "execution_count": 21,
   "id": "d06bdb13",
   "metadata": {},
   "outputs": [
    {
     "data": {
      "text/html": [
       "<div>\n",
       "<style scoped>\n",
       "    .dataframe tbody tr th:only-of-type {\n",
       "        vertical-align: middle;\n",
       "    }\n",
       "\n",
       "    .dataframe tbody tr th {\n",
       "        vertical-align: top;\n",
       "    }\n",
       "\n",
       "    .dataframe thead th {\n",
       "        text-align: right;\n",
       "    }\n",
       "</style>\n",
       "<table border=\"1\" class=\"dataframe\">\n",
       "  <thead>\n",
       "    <tr style=\"text-align: right;\">\n",
       "      <th></th>\n",
       "      <th>Unnamed: 0</th>\n",
       "      <th>house_area</th>\n",
       "      <th>house_price</th>\n",
       "      <th>y_pred</th>\n",
       "      <th>squared_error</th>\n",
       "      <th>squared_total</th>\n",
       "      <th>residual</th>\n",
       "    </tr>\n",
       "  </thead>\n",
       "  <tbody>\n",
       "    <tr>\n",
       "      <th>0</th>\n",
       "      <td>0</td>\n",
       "      <td>1032.21</td>\n",
       "      <td>1.01</td>\n",
       "      <td>1.56</td>\n",
       "      <td>0.31</td>\n",
       "      <td>1.95</td>\n",
       "      <td>-0.55</td>\n",
       "    </tr>\n",
       "    <tr>\n",
       "      <th>1</th>\n",
       "      <td>1</td>\n",
       "      <td>2329.59</td>\n",
       "      <td>2.52</td>\n",
       "      <td>3.44</td>\n",
       "      <td>0.83</td>\n",
       "      <td>0.01</td>\n",
       "      <td>-0.91</td>\n",
       "    </tr>\n",
       "    <tr>\n",
       "      <th>2</th>\n",
       "      <td>2</td>\n",
       "      <td>2362.68</td>\n",
       "      <td>3.60</td>\n",
       "      <td>3.48</td>\n",
       "      <td>0.01</td>\n",
       "      <td>1.41</td>\n",
       "      <td>0.11</td>\n",
       "    </tr>\n",
       "    <tr>\n",
       "      <th>3</th>\n",
       "      <td>3</td>\n",
       "      <td>1218.12</td>\n",
       "      <td>2.33</td>\n",
       "      <td>1.83</td>\n",
       "      <td>0.24</td>\n",
       "      <td>0.01</td>\n",
       "      <td>0.49</td>\n",
       "    </tr>\n",
       "    <tr>\n",
       "      <th>4</th>\n",
       "      <td>4</td>\n",
       "      <td>1323.52</td>\n",
       "      <td>2.09</td>\n",
       "      <td>1.98</td>\n",
       "      <td>0.01</td>\n",
       "      <td>0.10</td>\n",
       "      <td>0.11</td>\n",
       "    </tr>\n",
       "    <tr>\n",
       "      <th>...</th>\n",
       "      <td>...</td>\n",
       "      <td>...</td>\n",
       "      <td>...</td>\n",
       "      <td>...</td>\n",
       "      <td>...</td>\n",
       "      <td>...</td>\n",
       "      <td>...</td>\n",
       "    </tr>\n",
       "    <tr>\n",
       "      <th>145</th>\n",
       "      <td>145</td>\n",
       "      <td>849.30</td>\n",
       "      <td>1.58</td>\n",
       "      <td>1.30</td>\n",
       "      <td>0.08</td>\n",
       "      <td>0.68</td>\n",
       "      <td>0.28</td>\n",
       "    </tr>\n",
       "    <tr>\n",
       "      <th>146</th>\n",
       "      <td>146</td>\n",
       "      <td>2382.69</td>\n",
       "      <td>3.86</td>\n",
       "      <td>3.51</td>\n",
       "      <td>0.12</td>\n",
       "      <td>2.11</td>\n",
       "      <td>0.35</td>\n",
       "    </tr>\n",
       "    <tr>\n",
       "      <th>147</th>\n",
       "      <td>147</td>\n",
       "      <td>1031.74</td>\n",
       "      <td>1.40</td>\n",
       "      <td>1.56</td>\n",
       "      <td>0.03</td>\n",
       "      <td>1.01</td>\n",
       "      <td>-0.16</td>\n",
       "    </tr>\n",
       "    <tr>\n",
       "      <th>148</th>\n",
       "      <td>148</td>\n",
       "      <td>1322.07</td>\n",
       "      <td>2.26</td>\n",
       "      <td>1.98</td>\n",
       "      <td>0.08</td>\n",
       "      <td>0.02</td>\n",
       "      <td>0.28</td>\n",
       "    </tr>\n",
       "    <tr>\n",
       "      <th>149</th>\n",
       "      <td>149</td>\n",
       "      <td>967.66</td>\n",
       "      <td>2.02</td>\n",
       "      <td>1.47</td>\n",
       "      <td>0.31</td>\n",
       "      <td>0.15</td>\n",
       "      <td>0.55</td>\n",
       "    </tr>\n",
       "  </tbody>\n",
       "</table>\n",
       "<p>150 rows × 7 columns</p>\n",
       "</div>"
      ],
      "text/plain": [
       "     Unnamed: 0  house_area  house_price  y_pred  squared_error  \\\n",
       "0             0     1032.21         1.01    1.56           0.31   \n",
       "1             1     2329.59         2.52    3.44           0.83   \n",
       "2             2     2362.68         3.60    3.48           0.01   \n",
       "3             3     1218.12         2.33    1.83           0.24   \n",
       "4             4     1323.52         2.09    1.98           0.01   \n",
       "..          ...         ...          ...     ...            ...   \n",
       "145         145      849.30         1.58    1.30           0.08   \n",
       "146         146     2382.69         3.86    3.51           0.12   \n",
       "147         147     1031.74         1.40    1.56           0.03   \n",
       "148         148     1322.07         2.26    1.98           0.08   \n",
       "149         149      967.66         2.02    1.47           0.31   \n",
       "\n",
       "     squared_total  residual  \n",
       "0             1.95     -0.55  \n",
       "1             0.01     -0.91  \n",
       "2             1.41      0.11  \n",
       "3             0.01      0.49  \n",
       "4             0.10      0.11  \n",
       "..             ...       ...  \n",
       "145           0.68      0.28  \n",
       "146           2.11      0.35  \n",
       "147           1.01     -0.16  \n",
       "148           0.02      0.28  \n",
       "149           0.15      0.55  \n",
       "\n",
       "[150 rows x 7 columns]"
      ]
     },
     "execution_count": 21,
     "metadata": {},
     "output_type": "execute_result"
    }
   ],
   "source": [
    "#residual\n",
    "df['residual']=df['house_price']-df['y_pred']\n",
    "#squared error\n",
    "df['squared_error']=(df['house_price']-df['y_pred'])**2\n",
    "#squared total\n",
    "df['squared_total']=(df['house_price']-df['house_price'].mean())**2\n",
    "df"
   ]
  },
  {
   "cell_type": "markdown",
   "id": "275971e4",
   "metadata": {},
   "source": [
    "# Model Evaluation\n",
    "## MSE, RMSE, SSE, SST, $R^2$"
   ]
  },
  {
   "cell_type": "code",
   "execution_count": 22,
   "id": "73c27c3e",
   "metadata": {},
   "outputs": [
    {
     "data": {
      "text/plain": [
       "0.10296335486921042"
      ]
     },
     "execution_count": 22,
     "metadata": {},
     "output_type": "execute_result"
    }
   ],
   "source": [
    "MSE=df['squared_error'].mean()\n",
    "MSE"
   ]
  },
  {
   "cell_type": "code",
   "execution_count": 23,
   "id": "58420611",
   "metadata": {},
   "outputs": [
    {
     "data": {
      "text/plain": [
       "0.32087903463643497"
      ]
     },
     "execution_count": 23,
     "metadata": {},
     "output_type": "execute_result"
    }
   ],
   "source": [
    "RMSE=MSE**(0.5)\n",
    "RMSE"
   ]
  },
  {
   "cell_type": "code",
   "execution_count": 24,
   "id": "1798bf3d",
   "metadata": {},
   "outputs": [
    {
     "data": {
      "text/plain": [
       "15.444503230381564"
      ]
     },
     "execution_count": 24,
     "metadata": {},
     "output_type": "execute_result"
    }
   ],
   "source": [
    "SSE=150*MSE\n",
    "SSE"
   ]
  },
  {
   "cell_type": "code",
   "execution_count": 26,
   "id": "93b4714e",
   "metadata": {},
   "outputs": [
    {
     "data": {
      "text/plain": [
       "15.444503230381564"
      ]
     },
     "execution_count": 26,
     "metadata": {},
     "output_type": "execute_result"
    }
   ],
   "source": [
    "SSE=df['squared_error'].sum()\n",
    "SSE"
   ]
  },
  {
   "cell_type": "code",
   "execution_count": 25,
   "id": "618064aa",
   "metadata": {},
   "outputs": [
    {
     "data": {
      "text/plain": [
       "84.74812412354646"
      ]
     },
     "execution_count": 25,
     "metadata": {},
     "output_type": "execute_result"
    }
   ],
   "source": [
    "SST=df['squared_total'].sum()\n",
    "SST"
   ]
  },
  {
   "cell_type": "code",
   "execution_count": 27,
   "id": "7c3d5dfb",
   "metadata": {},
   "outputs": [
    {
     "data": {
      "text/plain": [
       "0.8177599399384174"
      ]
     },
     "execution_count": 27,
     "metadata": {},
     "output_type": "execute_result"
    }
   ],
   "source": [
    "R_squared=1-(SSE/SST)\n",
    "R_squared"
   ]
  },
  {
   "cell_type": "code",
   "execution_count": null,
   "id": "c2b2d01f",
   "metadata": {},
   "outputs": [],
   "source": []
  },
  {
   "cell_type": "code",
   "execution_count": 28,
   "id": "d7ae0647",
   "metadata": {},
   "outputs": [
    {
     "data": {
      "text/html": [
       "<div>\n",
       "<style scoped>\n",
       "    .dataframe tbody tr th:only-of-type {\n",
       "        vertical-align: middle;\n",
       "    }\n",
       "\n",
       "    .dataframe tbody tr th {\n",
       "        vertical-align: top;\n",
       "    }\n",
       "\n",
       "    .dataframe thead th {\n",
       "        text-align: right;\n",
       "    }\n",
       "</style>\n",
       "<table border=\"1\" class=\"dataframe\">\n",
       "  <thead>\n",
       "    <tr style=\"text-align: right;\">\n",
       "      <th></th>\n",
       "      <th>total_bill</th>\n",
       "      <th>tip</th>\n",
       "      <th>sex</th>\n",
       "      <th>smoker</th>\n",
       "      <th>day</th>\n",
       "      <th>time</th>\n",
       "      <th>size</th>\n",
       "    </tr>\n",
       "  </thead>\n",
       "  <tbody>\n",
       "    <tr>\n",
       "      <th>0</th>\n",
       "      <td>16.99</td>\n",
       "      <td>1.01</td>\n",
       "      <td>Female</td>\n",
       "      <td>No</td>\n",
       "      <td>Sun</td>\n",
       "      <td>Dinner</td>\n",
       "      <td>2</td>\n",
       "    </tr>\n",
       "    <tr>\n",
       "      <th>1</th>\n",
       "      <td>10.34</td>\n",
       "      <td>1.66</td>\n",
       "      <td>Male</td>\n",
       "      <td>No</td>\n",
       "      <td>Sun</td>\n",
       "      <td>Dinner</td>\n",
       "      <td>3</td>\n",
       "    </tr>\n",
       "    <tr>\n",
       "      <th>2</th>\n",
       "      <td>21.01</td>\n",
       "      <td>3.50</td>\n",
       "      <td>Male</td>\n",
       "      <td>No</td>\n",
       "      <td>Sun</td>\n",
       "      <td>Dinner</td>\n",
       "      <td>3</td>\n",
       "    </tr>\n",
       "  </tbody>\n",
       "</table>\n",
       "</div>"
      ],
      "text/plain": [
       "   total_bill  tip     sex smoker  day    time  size\n",
       "0       16.99 1.01  Female     No  Sun  Dinner     2\n",
       "1       10.34 1.66    Male     No  Sun  Dinner     3\n",
       "2       21.01 3.50    Male     No  Sun  Dinner     3"
      ]
     },
     "execution_count": 28,
     "metadata": {},
     "output_type": "execute_result"
    }
   ],
   "source": [
    "#data tips\n",
    "tips=sns.load_dataset('tips')\n",
    "tips.head(3)"
   ]
  },
  {
   "cell_type": "code",
   "execution_count": null,
   "id": "2c56235a",
   "metadata": {},
   "outputs": [],
   "source": []
  }
 ],
 "metadata": {
  "kernelspec": {
   "display_name": "Python 3 (ipykernel)",
   "language": "python",
   "name": "python3"
  },
  "language_info": {
   "codemirror_mode": {
    "name": "ipython",
    "version": 3
   },
   "file_extension": ".py",
   "mimetype": "text/x-python",
   "name": "python",
   "nbconvert_exporter": "python",
   "pygments_lexer": "ipython3",
   "version": "3.11.3"
  }
 },
 "nbformat": 4,
 "nbformat_minor": 5
}
